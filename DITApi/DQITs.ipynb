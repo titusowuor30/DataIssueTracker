{
 "cells": [
  {
   "cell_type": "code",
   "execution_count": 1,
   "id": "88bf6d52-94c5-49be-811b-7579763d668c",
   "metadata": {},
   "outputs": [
    {
     "name": "stdout",
     "output_type": "stream",
     "text": [
      "Requirement already satisfied: openpyxl in e:\\projects\\dataissuetracker\\env\\lib\\site-packages (3.1.2)\n",
      "Requirement already satisfied: et-xmlfile in e:\\projects\\dataissuetracker\\env\\lib\\site-packages (from openpyxl) (1.1.0)\n",
      "Note: you may need to restart the kernel to use updated packages.\n"
     ]
    }
   ],
   "source": [
    "pip install openpyxl"
   ]
  },
  {
   "cell_type": "code",
   "execution_count": 2,
   "id": "0c5c4322-2ce2-41d8-a538-9413005abb87",
   "metadata": {},
   "outputs": [
    {
     "name": "stdout",
     "output_type": "stream",
     "text": [
      "Requirement already satisfied: pandas in e:\\projects\\dataissuetracker\\env\\lib\\site-packages (2.1.1)Note: you may need to restart the kernel to use updated packages.\n",
      "\n",
      "Requirement already satisfied: numpy>=1.23.2 in e:\\projects\\dataissuetracker\\env\\lib\\site-packages (from pandas) (1.26.0)\n",
      "Requirement already satisfied: python-dateutil>=2.8.2 in e:\\projects\\dataissuetracker\\env\\lib\\site-packages (from pandas) (2.8.2)\n",
      "Requirement already satisfied: pytz>=2020.1 in e:\\projects\\dataissuetracker\\env\\lib\\site-packages (from pandas) (2023.3.post1)\n",
      "Requirement already satisfied: tzdata>=2022.1 in e:\\projects\\dataissuetracker\\env\\lib\\site-packages (from pandas) (2023.3)\n",
      "Requirement already satisfied: six>=1.5 in e:\\projects\\dataissuetracker\\env\\lib\\site-packages (from python-dateutil>=2.8.2->pandas) (1.16.0)\n"
     ]
    }
   ],
   "source": [
    "pip install pandas"
   ]
  },
  {
   "cell_type": "code",
   "execution_count": 46,
   "id": "59109703-d6de-4b85-bc15-d7fb4a00a08c",
   "metadata": {},
   "outputs": [],
   "source": [
    "import pandas as pd"
   ]
  },
  {
   "cell_type": "code",
   "execution_count": 47,
   "id": "71e6c2fa-9565-4ea8-9879-b1eeecd2b341",
   "metadata": {},
   "outputs": [],
   "source": [
    "df=pd.read_excel('E:/projects/DataIssueTracker/DITApi/media/facility data issues/facility_135.xlsx')"
   ]
  },
  {
   "cell_type": "code",
   "execution_count": 48,
   "id": "c990c8a2-4c66-4a90-a06d-1da71a392964",
   "metadata": {},
   "outputs": [
    {
     "name": "stdout",
     "output_type": "stream",
     "text": [
      "<class 'pandas.core.frame.DataFrame'>\n",
      "RangeIndex: 153 entries, 0 to 152\n",
      "Data columns (total 6 columns):\n",
      " #   Column                             Non-Null Count  Dtype         \n",
      "---  ------                             --------------  -----         \n",
      " 0   Patient ID                         153 non-null    int64         \n",
      " 1   Facility                           153 non-null    int64         \n",
      " 2   Date of Entry                      153 non-null    datetime64[ns]\n",
      " 3   Inconsistency                      153 non-null    object        \n",
      " 4   Action taken by country data team  0 non-null      float64       \n",
      " 5   Date action taken by country team  0 non-null      float64       \n",
      "dtypes: datetime64[ns](1), float64(2), int64(2), object(1)\n",
      "memory usage: 7.3+ KB\n"
     ]
    }
   ],
   "source": [
    "df.info()"
   ]
  },
  {
   "cell_type": "code",
   "execution_count": 49,
   "id": "615d6d2c-e9cc-4011-84b6-538f1d0f4cef",
   "metadata": {},
   "outputs": [
    {
     "data": {
      "text/html": [
       "<div>\n",
       "<style scoped>\n",
       "    .dataframe tbody tr th:only-of-type {\n",
       "        vertical-align: middle;\n",
       "    }\n",
       "\n",
       "    .dataframe tbody tr th {\n",
       "        vertical-align: top;\n",
       "    }\n",
       "\n",
       "    .dataframe thead th {\n",
       "        text-align: right;\n",
       "    }\n",
       "</style>\n",
       "<table border=\"1\" class=\"dataframe\">\n",
       "  <thead>\n",
       "    <tr style=\"text-align: right;\">\n",
       "      <th></th>\n",
       "      <th>Patient ID</th>\n",
       "      <th>Facility</th>\n",
       "      <th>Date of Entry</th>\n",
       "      <th>Inconsistency</th>\n",
       "      <th>Action taken by country data team</th>\n",
       "      <th>Date action taken by country team</th>\n",
       "    </tr>\n",
       "  </thead>\n",
       "  <tbody>\n",
       "    <tr>\n",
       "      <th>0</th>\n",
       "      <td>13501086</td>\n",
       "      <td>135</td>\n",
       "      <td>2023-09-08</td>\n",
       "      <td>Data required for: in_frm_dt_pap ( Date of Pap...</td>\n",
       "      <td>NaN</td>\n",
       "      <td>NaN</td>\n",
       "    </tr>\n",
       "    <tr>\n",
       "      <th>1</th>\n",
       "      <td>13501178</td>\n",
       "      <td>135</td>\n",
       "      <td>2022-04-13</td>\n",
       "      <td>Data required for: in_frm_dt_pap ( Date of Pap...</td>\n",
       "      <td>NaN</td>\n",
       "      <td>NaN</td>\n",
       "    </tr>\n",
       "  </tbody>\n",
       "</table>\n",
       "</div>"
      ],
      "text/plain": [
       "   Patient ID  Facility Date of Entry  \\\n",
       "0    13501086       135    2023-09-08   \n",
       "1    13501178       135    2022-04-13   \n",
       "\n",
       "                                       Inconsistency  \\\n",
       "0  Data required for: in_frm_dt_pap ( Date of Pap...   \n",
       "1  Data required for: in_frm_dt_pap ( Date of Pap...   \n",
       "\n",
       "   Action taken by country data team  Date action taken by country team  \n",
       "0                                NaN                                NaN  \n",
       "1                                NaN                                NaN  "
      ]
     },
     "execution_count": 49,
     "metadata": {},
     "output_type": "execute_result"
    }
   ],
   "source": [
    "df.head(2)"
   ]
  },
  {
   "cell_type": "code",
   "execution_count": 50,
   "id": "2828126e-08da-4be2-b6a5-8ad5ca969104",
   "metadata": {},
   "outputs": [
    {
     "name": "stdout",
     "output_type": "stream",
     "text": [
      "<class 'pandas.core.frame.DataFrame'>\n",
      "RangeIndex: 153 entries, 0 to 152\n",
      "Data columns (total 6 columns):\n",
      " #   Column                             Non-Null Count  Dtype         \n",
      "---  ------                             --------------  -----         \n",
      " 0   Patient ID                         153 non-null    int64         \n",
      " 1   Facility                           153 non-null    int64         \n",
      " 2   Date of Entry                      153 non-null    datetime64[ns]\n",
      " 3   Inconsistency                      153 non-null    object        \n",
      " 4   Action taken by country data team  0 non-null      float64       \n",
      " 5   Date action taken by country team  0 non-null      float64       \n",
      "dtypes: datetime64[ns](1), float64(2), int64(2), object(1)\n",
      "memory usage: 7.3+ KB\n"
     ]
    }
   ],
   "source": [
    "df.info()"
   ]
  },
  {
   "cell_type": "code",
   "execution_count": 51,
   "id": "cce9f313-fa59-4615-b926-d38990a4b2e4",
   "metadata": {},
   "outputs": [],
   "source": [
    "df = df[df.duplicated(keep=False)]"
   ]
  },
  {
   "cell_type": "code",
   "execution_count": 52,
   "id": "d29eb3d2-0ecd-4673-bd41-a3facca262fd",
   "metadata": {},
   "outputs": [
    {
     "data": {
      "text/html": [
       "<div>\n",
       "<style scoped>\n",
       "    .dataframe tbody tr th:only-of-type {\n",
       "        vertical-align: middle;\n",
       "    }\n",
       "\n",
       "    .dataframe tbody tr th {\n",
       "        vertical-align: top;\n",
       "    }\n",
       "\n",
       "    .dataframe thead th {\n",
       "        text-align: right;\n",
       "    }\n",
       "</style>\n",
       "<table border=\"1\" class=\"dataframe\">\n",
       "  <thead>\n",
       "    <tr style=\"text-align: right;\">\n",
       "      <th></th>\n",
       "      <th>Patient ID</th>\n",
       "      <th>Facility</th>\n",
       "      <th>Date of Entry</th>\n",
       "      <th>Inconsistency</th>\n",
       "      <th>Action taken by country data team</th>\n",
       "      <th>Date action taken by country team</th>\n",
       "    </tr>\n",
       "  </thead>\n",
       "  <tbody>\n",
       "  </tbody>\n",
       "</table>\n",
       "</div>"
      ],
      "text/plain": [
       "Empty DataFrame\n",
       "Columns: [Patient ID, Facility, Date of Entry, Inconsistency, Action taken by country data team, Date action taken by country team]\n",
       "Index: []"
      ]
     },
     "execution_count": 52,
     "metadata": {},
     "output_type": "execute_result"
    }
   ],
   "source": [
    "duplicate_rows"
   ]
  },
  {
   "cell_type": "code",
   "execution_count": null,
   "id": "ad12f91e-5529-4fbe-a605-34355e98f30f",
   "metadata": {},
   "outputs": [],
   "source": []
  },
  {
   "cell_type": "code",
   "execution_count": null,
   "id": "40a8e27e-e552-41ff-bdf4-ddb4c2b4d4e4",
   "metadata": {},
   "outputs": [],
   "source": []
  },
  {
   "cell_type": "code",
   "execution_count": null,
   "id": "05733485-97a2-41cc-bed1-899df434a713",
   "metadata": {},
   "outputs": [],
   "source": []
  }
 ],
 "metadata": {
  "kernelspec": {
   "display_name": "Python 3 (ipykernel)",
   "language": "python",
   "name": "python3"
  },
  "language_info": {
   "codemirror_mode": {
    "name": "ipython",
    "version": 3
   },
   "file_extension": ".py",
   "mimetype": "text/x-python",
   "name": "python",
   "nbconvert_exporter": "python",
   "pygments_lexer": "ipython3",
   "version": "3.11.4"
  }
 },
 "nbformat": 4,
 "nbformat_minor": 5
}
